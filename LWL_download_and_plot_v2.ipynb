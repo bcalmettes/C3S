{
 "cells": [
  {
   "cell_type": "markdown",
   "id": "e32bf775",
   "metadata": {},
   "source": [
    "# Tutorial: Data Access and  Visualisation of Lake Water Level (LWL) timeseries \n",
    "\n",
    "\n",
    "The Copernicus Climate Change Service (C3S) is a European programme with the objective of providing information on the current and past state of the climate. All this information is free available after registration throught the Climate Data Store CDS (https://cds.climate.copernicus.eu).\n",
    "\n",
    "One of the datasets available from CDS provides lake water level information derived from satellite radar altimetry for selected lakes all around the world. This technique, originally conceived to study open ocean processes, have nevertheless acquired numerous useful measurements over lakes. The Lake Water Level is defined as the height, in meters above the geoid (the shape that the surface would take under the influence of the gravity and rotation of Earth) of the reflecting surface. For each of the key lakes monitored in the C3S Lakes production system, the Level-3 Water Level is provided in separate file along with the corresponding uncertainty. \n",
    "\n",
    "\n",
    "One of the characteristics of the lake water level product is its irregular time step. A measurment is estimated each time the lake is observed by a mission/track and, depending on the size and location of the lake, it may be monitored by multiple missions/tracks, with different repetitivity. An overview of the product characteristics is provided in the Product User Specifiation Guide (PUGS).\n",
    "\n",
    "\n",
    "This tutorial, writen in python, aims to explain how to access the water level data for a specified lake and how to visualise its timeseries. \n",
    "\n",
    "\n",
    "<font color='red'>Before continuing with this tutorial, please verify that the C3S API is installed. All the information about this api is available at: </font>\n",
    "\n",
    "https://cds.climate.copernicus.eu/api-how-to#install-the-cds-api-key\n",
    "\n",
    "\n",
    "The tutorial comprises four main steps:\n",
    "\n",
    "1. Download and decompress data \n",
    "2. Visualise the location of the lake in a map\n",
    "3. Visualise and save water level timeseries\n",
    "4. Visualise and save the yearly water level anomalies\n",
    "\n",
    "\n"
   ]
  },
  {
   "cell_type": "markdown",
   "id": "6d0c53a5",
   "metadata": {},
   "source": [
    "## Import librairies\n",
    "\n",
    "\n",
    "The lake water level data is downloaded in a zip file containing a NetCDF file. Some libraries are needed to download data from the CDS, but also to manage zip files (zipfile library) and NetCDF files (xarray library). Other libraries are used to plot and visualise the data (matplotlib and cartopy libraries).\n",
    "\n",
    "Additional libraries: os and glob are used for file management "
   ]
  },
  {
   "cell_type": "code",
   "execution_count": 1,
   "id": "9c43d1ff",
   "metadata": {},
   "outputs": [],
   "source": [
    "import cdsapi\n",
    "import os\n",
    "import glob\n",
    "import zipfile\n",
    "import xarray as xr\n",
    "import numpy as np\n",
    "import matplotlib.pyplot as plt\n",
    "from cartopy import crs, feature\n",
    "\n",
    "%matplotlib widget\n"
   ]
  },
  {
   "cell_type": "markdown",
   "id": "d0cc445f",
   "metadata": {},
   "source": [
    "Current version of the Lake Water Level dataset in CDS (v4.0) contains timeseries from 229 lakes. "
   ]
  },
  {
   "cell_type": "code",
   "execution_count": 2,
   "id": "b8111a98",
   "metadata": {},
   "outputs": [],
   "source": [
    "available_lakes =  [\n",
    "            'achit', 'alakol', 'albert',\n",
    "            'amadjuak', 'american_falls', 'aqqikol_hu',\n",
    "            'argentino', 'athabasca', 'ayakkum',\n",
    "            'aydarkul', 'aylmer', 'azhibeksorkoli',\n",
    "            'bagre', 'baikal', 'bairab',\n",
    "            'baker', 'balbina', 'balkhash',\n",
    "            'bangweulu', 'bankim', 'baunt',\n",
    "            'beas', 'beysehir', 'bienville',\n",
    "            'big_trout', 'birch', 'biylikol',\n",
    "            'bluenose', 'bodensee', 'bogoria',\n",
    "            'bosten', 'bratskoye', 'bugunskoye',\n",
    "            'cahora_bassa', 'caribou', 'caspian',\n",
    "            'cayuga', 'cedar', 'cerros_colorados',\n",
    "            'chagbo_co', 'chapala', 'chardarya',\n",
    "            'chatyrkol', 'chishi', 'chlya',\n",
    "            'chocon', 'chukochye', 'cienagachilloa',\n",
    "            'claire', 'cochrane', 'corangamite',\n",
    "            'cuodarima', 'dagze_co', 'dalai',\n",
    "            'danau_towuti', 'danausingkarak', 'dangqiong',\n",
    "            'des_bois', 'dogaicoring_q', 'dorgon',\n",
    "            'dorsoidong_co', 'dubawnt', 'edouard',\n",
    "            'egridir', 'erie', 'faber',\n",
    "            'fitri', 'fontana', 'fort_peck',\n",
    "            'garkung', 'george', 'gods',\n",
    "            'grande_trois', 'greatslave', 'guri',\n",
    "            'gyaring_co', 'gyeze_caka', 'habbaniyah',\n",
    "            'hala', 'hamrin', 'har',\n",
    "            'hawizeh_marshes', 'heishi_beihu', 'hendrik_verwoerd',\n",
    "            'hinojo', 'hoh_xil_hu', 'hongze',\n",
    "            'hottah', 'hovsgol', 'hulun',\n",
    "            'huron', 'hyargas', 'iliamna',\n",
    "            'illmen', 'inarinjarvi', 'issykkul',\n",
    "            'iznik', 'jayakwadi', 'kabele',\n",
    "            'kabwe', 'kainji', 'kairakum',\n",
    "            'kamilukuak', 'kamyshlybas', 'kapchagayskoye',\n",
    "            'kara_bogaz_gol', 'karasor', 'kariba',\n",
    "            'kasba', 'khanka', 'kinkony',\n",
    "            'kisale', 'kivu', 'kokonor',\n",
    "            'kossou', 'krasnoyarskoye', 'kremenchutska',\n",
    "            'kubenskoye', 'kulundinskoye', 'kumskoye',\n",
    "            'kuybyshevskoye', 'kyoga', 'ladoga',\n",
    "            'lagdo', 'lagoa_dos_patos', 'langa_co',\n",
    "            'langano', 'lano', 'leman',\n",
    "            'lixiodain_co', 'lumajangdong_co', 'luotuo',\n",
    "            'mai_ndombe', 'malawi', 'mangbeto',\n",
    "            'manitoba', 'memar', 'michigan',\n",
    "            'migriggyangzham', 'mingacevir', 'mono',\n",
    "            'mossoul', 'mullet', 'mweru',\n",
    "            'naivasha', 'namco', 'namngum',\n",
    "            'nasser', 'nezahualcoyoti', 'ngangze',\n",
    "            'ngoring_co', 'nicaragua', 'nipissing',\n",
    "            'novosibirskoye', 'nueltin', 'oahe',\n",
    "            'old_wives', 'onega', 'ontario',\n",
    "            'opinac', 'peipus', 'prespa',\n",
    "            'pukaki', 'pyaozero', 'ranco',\n",
    "            'roseires', 'rukwa', 'rybinskoye',\n",
    "            'saint_jean', 'sakakawea', 'saksak',\n",
    "            'san_martin', 'saratovskoye', 'sarykamish',\n",
    "            'sasykkol', 'saysan', 'segozerskoye',\n",
    "            'serbug', 'sevan', 'shiroro',\n",
    "            'sobradino', 'soungari', 'srisailam',\n",
    "            'superior', 'swan', 'tana',\n",
    "            'tanganika', 'tangra_yumco', 'tchad',\n",
    "            'tchany', 'telashi', 'teletskoye',\n",
    "            'telmen', 'tengiz', 'tharthar',\n",
    "            'titicaca', 'todos_los_santos', 'toktogul',\n",
    "            'tonle_sap', 'tres_marias', 'tsimlyanskoye',\n",
    "            'tumba', 'turkana', 'ulan_ul',\n",
    "            'ulungur', 'umbozero', 'uvs',\n",
    "            'valencia', 'van', 'vanajanselka',\n",
    "            'vanerm', 'vattern', 'victoria',\n",
    "            'viedma', 'volta', 'walker',\n",
    "            'williston', 'winnipeg', 'winnipegosis',\n",
    "            'xiangyang', 'yamzho_yumco', 'yellowstone',\n",
    "            'zeyskoye', 'zhari_namco', 'zhelin',\n",
    "            'ziling', 'zimbambo', 'ziway',\n",
    "            'zonag',\n",
    "        ]"
   ]
  },
  {
   "cell_type": "markdown",
   "id": "8e9fa756",
   "metadata": {},
   "source": [
    "# Lake selection\n",
    "\n",
    "\n",
    "To download and visualise the timeseries, two inputs are required:\n",
    "\n",
    "- The name of the lake (lake_name). The name of the lake must exists in the list of available lakes\n",
    "- The name of the output directory (output_dir) where the different files will be save."
   ]
  },
  {
   "cell_type": "code",
   "execution_count": 3,
   "id": "86013549",
   "metadata": {},
   "outputs": [],
   "source": [
    "# the name of the lake\n",
    "lake_name = 'zhari_namco'\n",
    "\n",
    "# the output directory name \n",
    "output_dir = 'output'\n"
   ]
  },
  {
   "cell_type": "markdown",
   "id": "6bb03e7e",
   "metadata": {},
   "source": [
    "A test is performed to verify that the water level of the selected lake is available "
   ]
  },
  {
   "cell_type": "code",
   "execution_count": 4,
   "id": "6fcf6ad4",
   "metadata": {},
   "outputs": [],
   "source": [
    "if lake_name not in available_lakes :\n",
    "    print (f'The lake \"{lake_name}\" is not still available')"
   ]
  },
  {
   "cell_type": "markdown",
   "id": "4d512b10",
   "metadata": {},
   "source": [
    "The output directory must exist. If this is not the case, it must be created. "
   ]
  },
  {
   "cell_type": "code",
   "execution_count": 5,
   "id": "31d7e4fe",
   "metadata": {},
   "outputs": [],
   "source": [
    "if os.path.exists(output_dir) == False:\n",
    "    print (f'The output dir \"{output_dir}\" does not exist. You need to create before continue')"
   ]
  },
  {
   "cell_type": "markdown",
   "id": "48f180c8",
   "metadata": {},
   "source": [
    "## 1. Download and decompress data\n",
    "\n",
    "Using the CDS api, this function retrives the  data for the specified lake into the defined output directory. The downloaded file is compressed (zip format) containing the data file in NetCDF format. To read the lake water level data, the file is extracted in the output directory. "
   ]
  },
  {
   "cell_type": "code",
   "execution_count": 6,
   "id": "e830d1cf",
   "metadata": {
    "scrolled": true
   },
   "outputs": [
    {
     "name": "stderr",
     "output_type": "stream",
     "text": [
      "2024-09-05 11:31:31,668 INFO Welcome to the CDS.\n",
      "As per our announcements on the Forum, this instance of CDS will be decommissioned on 26 September 2024 and will no longer be accessible from this date onwards.\n",
      "Please update your cdsapi package to a version >=0.7.2, create an account on CDS-Beta and update your .cdsapirc file. We strongly recommend users to check our Guidelines at https://confluence.ecmwf.int/x/uINmFw\n",
      "2024-09-05 11:31:31,670 WARNING MOVE TO CDS-Beta\n",
      "2024-09-05 11:31:31,671 INFO Sending request to https://cds.climate.copernicus.eu/api/v2/resources/satellite-lake-water-level\n",
      "2024-09-05 11:31:31,802 INFO Request is completed\n",
      "2024-09-05 11:31:31,803 INFO Downloading https://download-0006-clone.copernicus-climate.eu/cache-compute-0006/cache/data2/dataset-satellite-lake-water-level-fdabb802-e490-4803-a9be-73c0a52cac20.zip to output/zhari_namco.zip (10K)\n",
      "2024-09-05 11:31:32,016 INFO Download rate 47.2K/s\n"
     ]
    }
   ],
   "source": [
    "c = cdsapi.Client()\n",
    "\n",
    "list_regions = [ 'northern_africa', 'northern_north_america', 'southeastern_asia',\n",
    "                 'southern_africa', 'southern_america', 'southern_north_america',\n",
    "                 'southwestern_asia']\n",
    "\n",
    "c.retrieve(\n",
    "    'satellite-lake-water-level',\n",
    "    {\n",
    "        'variable': 'all',\n",
    "        'region': list_regions,\n",
    "        'lake': lake_name,\n",
    "        'version': 'version_4_0',\n",
    "        'format': 'zip',\n",
    "    },\n",
    "    f'{output_dir}/{lake_name}.zip')\n",
    "\n",
    "with zipfile.ZipFile(f'{output_dir}/{lake_name}.zip') as z:\n",
    "    z.extractall(f'{output_dir}')\n",
    "    \n",
    "# recover the lake filename in netcdf format\n",
    "nc_file = glob.glob(f'{output_dir}/*{lake_name.upper().replace(\"_\", \"-\")}*.nc')[0]\n",
    "\n",
    "# open the file with Xarray\n",
    "xr_lake = xr.open_dataset(nc_file)\n"
   ]
  },
  {
   "cell_type": "markdown",
   "id": "12f069d5",
   "metadata": {},
   "source": [
    " # 2. Visualise lake location\n",
    " \n",
    "It is always useful to check the location of the lake on a map. Many of the world's lakes have the same name but may be located in different countries, as in the case of Lake Victoria: the best known is in Uganda, but there is also a Lake Victoria in Canada (48.35N, 57.11W) and another in Australia (34.04S, 141.28E). Or the name of the lake may be different, depending on the language: Caribou Lake or Rendeer Lake refer to the same lake (Canada). In some cases, even with the same language, the name of the lake may differ from one country to another: Lake Buenos Aires in Argentina and Lake General Carrera in Chile.\n",
    "\n",
    "A world map showing the location of the lake is displayed. To generate this figure, we use the cartopy library.  "
   ]
  },
  {
   "cell_type": "code",
   "execution_count": 7,
   "id": "271f0398",
   "metadata": {},
   "outputs": [
    {
     "data": {
      "application/vnd.jupyter.widget-view+json": {
       "model_id": "b8f0b570a46942c38659b2aa28ea6275",
       "version_major": 2,
       "version_minor": 0
      },
      "text/plain": [
       "Canvas(toolbar=Toolbar(toolitems=[('Home', 'Reset original view', 'home', 'home'), ('Back', 'Back to previous …"
      ]
     },
     "metadata": {},
     "output_type": "display_data"
    },
    {
     "name": "stdout",
     "output_type": "stream",
     "text": [
      "Lake location (lat, lon): 30.9°, 85.6°\n"
     ]
    },
    {
     "data": {
      "text/plain": [
       "<matplotlib.collections.PathCollection at 0x7022e4904a90>"
      ]
     },
     "execution_count": 7,
     "metadata": {},
     "output_type": "execute_result"
    }
   ],
   "source": [
    "fig = plt.figure(figsize = (12,6))\n",
    "ax = plt.subplot(1,1,1, projection = crs.PlateCarree())\n",
    "\n",
    "ax.coastlines()\n",
    "ax.add_feature(feature.BORDERS, linewidth=0.5, edgecolor='blue')\n",
    "ax.stock_img()\n",
    "\n",
    "# add lake location \n",
    "lat = float(xr_lake.lake_barycentre_latitude.split()[0])\n",
    "if 'S' in xr_lake.lake_barycentre_latitude:\n",
    "    lat = -lat\n",
    "lon = float(xr_lake.lake_barycentre_longitude.split()[0])\n",
    "if 'W' in xr_lake.lake_barycentre_longitude:\n",
    "    lon = -lon\n",
    "    \n",
    "print (f\"Lake location (lat, lon): {lat}°, {lon}°\")\n",
    "plt.scatter(x = [lon], y = [lat], s = 30, color = 'red', transform = crs.PlateCarree())"
   ]
  },
  {
   "cell_type": "markdown",
   "id": "e6c49d14",
   "metadata": {},
   "source": [
    " # 3. Visualise lake water level time series\n",
    "\n",
    "Once the data has been extracted, it can be read and visualised. Data in NetCDF format is read using the Xarray library, and Matplotlib is used to display time series.\n",
    "\n",
    "The figure with the timeseries will be saved in the output directory in png format:\n",
    "[lake_name]_timeseries.png file\n",
    "\n",
    "The change in time step due to coverage by multiple missions can be seen in the figure: in recent years, Lake Baikal has been monitored by multiple missions and trajectories. As a result, the temporal resolution increases (the time between observations is reduced) and the time series is noisier due to the effect of the inter-mission and inter-tracks bias. "
   ]
  },
  {
   "cell_type": "code",
   "execution_count": 8,
   "id": "97103012",
   "metadata": {},
   "outputs": [
    {
     "data": {
      "application/vnd.jupyter.widget-view+json": {
       "model_id": "b416f899c90d4e0fb2127225f2c74e2f",
       "version_major": 2,
       "version_minor": 0
      },
      "text/plain": [
       "Canvas(toolbar=Toolbar(toolitems=[('Home', 'Reset original view', 'home', 'home'), ('Back', 'Back to previous …"
      ]
     },
     "metadata": {},
     "output_type": "display_data"
    }
   ],
   "source": [
    "# plot and visualise the timeseries\n",
    "fig = plt.figure(figsize = (12, 6))\n",
    "xr_lake.water_surface_height_above_reference_datum.plot()\n",
    "plt.title(f'Lake: {lake_name.title()}')\n",
    "\n",
    "# save the figure\n",
    "png_file = f'{output_dir}/{lake_name}_timeseries.png'\n",
    "plt.savefig(png_file, dpi=300, bbox_inches=\"tight\")"
   ]
  },
  {
   "cell_type": "markdown",
   "id": "db7e48b6",
   "metadata": {},
   "source": [
    " # 3. Visualise lake water level yearly anomalies\n",
    " \n",
    "Another way of analysing variations in water levels is to visualise anomalies in relation to average values over a reference period in the form of a bar chart, using red and blue colours to easily identify the year when levels are higher or lower than the climatic normal.\n",
    "\n",
    "The same code can be used for the visualiation of yearly anomalies compared to a particular year. \n"
   ]
  },
  {
   "cell_type": "markdown",
   "id": "d69796fc",
   "metadata": {},
   "source": [
    "The reference period can be adapted to each lake. Indeed, the temporal coverage is not the same for all the lakes in the CDS, with the first available date ranging from 1992, as is the case for Lake Baikal, to 2019 for lakes monitored exclusively by the Sentinel-3B mission. In this example for Lake Baikal, we have chosen a reference period consisting of the first 10 years of data."
   ]
  },
  {
   "cell_type": "code",
   "execution_count": 9,
   "id": "0d0446d0",
   "metadata": {},
   "outputs": [],
   "source": [
    "first_reference_year = 1992\n",
    "last_reference_year  = 2002"
   ]
  },
  {
   "cell_type": "markdown",
   "id": "ce619e70",
   "metadata": {},
   "source": [
    "The yearly anomaly is calculated by first applying xarray's groupby() function to group the data by year and then calculating the mean value for each annual group. The average value of the water in the reference lake is estimated as the average water level over the reference period."
   ]
  },
  {
   "cell_type": "code",
   "execution_count": 10,
   "id": "7949bc53",
   "metadata": {},
   "outputs": [
    {
     "name": "stdout",
     "output_type": "stream",
     "text": [
      "Mean LWL value during the reference period: 4610.444 (m)\n"
     ]
    }
   ],
   "source": [
    "yearly_mean = xr_lake.groupby('time.year').mean(keep_attrs = True)\n",
    "\n",
    "ref = yearly_mean.where((yearly_mean.year >= first_reference_year ) & (yearly_mean.year <= last_reference_year ))\n",
    "ref_lwl_mean = np.nanmean(ref.water_surface_height_above_reference_datum.values)\n",
    "\n",
    "print (f'Mean LWL value during the reference period: {np.round(ref_lwl_mean,3)} (m)')"
   ]
  },
  {
   "cell_type": "markdown",
   "id": "efe7cf4e",
   "metadata": {},
   "source": [
    "The yearly anomaly is shown in red for values above the average water level during the reference period and in blue for values below.\n",
    "\n",
    "The figure with the anomalies is saved in the output directory in png format :\n",
    "[lake_name]_yearly-anomalies.png file"
   ]
  },
  {
   "cell_type": "code",
   "execution_count": 11,
   "id": "69a1ccde",
   "metadata": {},
   "outputs": [
    {
     "data": {
      "application/vnd.jupyter.widget-view+json": {
       "model_id": "d69703d5227b4c9ba43398c07e95f301",
       "version_major": 2,
       "version_minor": 0
      },
      "text/plain": [
       "Canvas(toolbar=Toolbar(toolitems=[('Home', 'Reset original view', 'home', 'home'), ('Back', 'Back to previous …"
      ]
     },
     "metadata": {},
     "output_type": "display_data"
    }
   ],
   "source": [
    "year_mean = yearly_mean.to_dataframe()\n",
    "year_mean['lwl_yearly_anomaly'] = year_mean['water_surface_height_above_reference_datum'] - ref_lwl_mean\n",
    "year_mean['positive_anomaly'] = year_mean['lwl_yearly_anomaly'] > 0\n",
    "\n",
    "fig, ax = plt.subplots(figsize=(12, 6))\n",
    "year_mean['lwl_yearly_anomaly'].plot(kind='bar', \n",
    "                                     color = year_mean.positive_anomaly.map ({True: 'red', False: 'blue'}),\n",
    "                                     xlabel = '\\nYear',\n",
    "                                     ylabel = 'Lake Water Level Anomaly (m)',\n",
    "                                     title = f'Yearly water level anomalies on Lake {lake_name.title()}\\n reference period:  {first_reference_year} - {last_reference_year}')\n",
    "\n",
    "ax.grid()\n",
    "\n",
    "# save the figure\n",
    "png_file = f'{output_dir}/{lake_name}_yearly-anomalies.png'\n",
    "plt.savefig(png_file, dpi=300, bbox_inches='tight')"
   ]
  }
 ],
 "metadata": {
  "kernelspec": {
   "display_name": "Python [conda env:.conda-env39] *",
   "language": "python",
   "name": "conda-env-.conda-env39-py"
  },
  "language_info": {
   "codemirror_mode": {
    "name": "ipython",
    "version": 3
   },
   "file_extension": ".py",
   "mimetype": "text/x-python",
   "name": "python",
   "nbconvert_exporter": "python",
   "pygments_lexer": "ipython3",
   "version": "3.9.4"
  }
 },
 "nbformat": 4,
 "nbformat_minor": 5
}
